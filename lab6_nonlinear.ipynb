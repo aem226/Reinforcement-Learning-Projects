{
  "nbformat": 4,
  "nbformat_minor": 0,
  "metadata": {
    "colab": {
      "provenance": [],
      "include_colab_link": true
    },
    "kernelspec": {
      "name": "python3",
      "display_name": "Python 3"
    },
    "language_info": {
      "name": "python"
    }
  },
  "cells": [
    {
      "cell_type": "markdown",
      "metadata": {
        "id": "view-in-github",
        "colab_type": "text"
      },
      "source": [
        "<a href=\"https://colab.research.google.com/github/aem226/Reinforcement-Learning-Projects/blob/main/lab6_nonlinear.ipynb\" target=\"_parent\"><img src=\"https://colab.research.google.com/assets/colab-badge.svg\" alt=\"Open In Colab\"/></a>"
      ]
    },
    {
      "cell_type": "markdown",
      "source": [
        "# Lab 6: Non-linear function approximation\n",
        "\n",
        "## Exercise 1: Q-Learning with a Neural Network (PyTorch) on MountainCar\n",
        "\n",
        "**Objective:**\n",
        "Implement **Q-learning** with a **PyTorch neural network** to solve `MountainCar-v0`. You will approximate Q(s, a) with a small MLP, train it from batches of transitions sampled from a replay buffer, and evaluate the learned policy.\n",
        "\n",
        "---\n",
        "\n",
        "## Environment\n",
        "- **Gym** environment: `MountainCar-v0`\n",
        "- **State**: continuous (position, velocity) → shape `(2,)`\n",
        "- **Actions**: {0: left, 1: no push, 2: right}\n",
        "- **Reward**: -1 per step until the goal (`position >= 0.5`)\n",
        "- **Episode limit**: 500 steps\n",
        "- **Goal**: reduce steps-to-goal and improve return over training\n",
        "\n",
        "---\n",
        "\n",
        "## What You Must Implement\n",
        "\n",
        "### 1) Q-Network (PyTorch)\n",
        "Create a small MLP `QNetwork` that maps `state -> Q-values for 3 actions`.\n",
        "- Inputs: `(batch_size, 2)` float32\n",
        "- Outputs: `(batch_size, 3)` Q-values\n",
        "- Suggested architecture: `2 → 64 → 3` with ReLU\n",
        "- Initialize weights reasonably (PyTorch defaults are fine)\n",
        "\n",
        "### 2) Replay Buffer\n",
        "A cyclic buffer to store transitions `(s, a, r, s_next, done)`:\n",
        "- `append(s, a, r, s_next, done)`\n",
        "- `sample(batch_size)` → tensors ready for PyTorch (float32 for states, int64 for actions, float32 for rewards/done)\n",
        "\n",
        "### 3) ε-Greedy Policy\n",
        "- With probability `epsilon`: pick a random action\n",
        "- Otherwise: `argmax_a Q(s, a)` from the current network\n",
        "- Use **decaying ε** (e.g., from 1.0 down to 0.05 over ~20–50k steps)\n",
        "\n",
        "### 4) Q-Learning Target and Loss\n",
        "For a sampled batch:\n",
        "- Compute `q_pred = Q(s).gather(1, a)`  (shape `(batch, 1)`)\n",
        "- Compute target:\n",
        "  - If `done`: `target = r`\n",
        "  - Else: `target = r + gamma * max_a' Q(s_next, a').detach()`\n",
        "- Loss: Mean Squared Error (MSE) between `q_pred` and `target`\n",
        "\n",
        "> **Stabilization (recommended)**: Use a **target network** `Q_target` (periodically copy weights from `Q_online`) to compute the max over next-state actions. Update every `target_update_freq` steps.\n",
        "\n",
        "### 5) Deep Q-learning method\n",
        "- For each environment step:\n",
        "  1. Select action with ε-greedy\n",
        "  2. Step the env, store transition in buffer\n",
        "  3. If `len(buffer) >= batch_size`:\n",
        "     - Sample a batch\n",
        "     - Compute `q_pred`, `target`\n",
        "     - Backprop: `optimizer.zero_grad(); loss.backward(); optimizer.step()`\n",
        "     - (Optional) gradient clipping (e.g., `clip_grad_norm_` at 10)\n",
        "  4. Periodically update `Q_target ← Q_online` (if using target net)\n",
        "- Track episode returns (sum of rewards) and steps-to-goal\n",
        "\n",
        "---\n",
        "\n",
        "## Evaluation\n",
        "- Run **evaluation episodes** with `epsilon = 0.0` (greedy) every N training episodes\n",
        "- Report:\n",
        "  - Average steps-to-goal (lower is better; random policy is ~200)\n",
        "  - Average return (less negative is better)\n",
        "- Plot:\n",
        "  - Training episode return\n",
        "\n",
        "---\n",
        "\n",
        "## Deliverables\n",
        "1. **Code**: In a notebook.\n",
        "2. **Plots**:\n",
        "   - Episode  vs return\n",
        "   - Final value function (State (postition and velocity) Vs Max(Q(state)))\n",
        "\n",
        "3. **Short write-up** (also in the notebook):\n",
        "   - **Performance of your DQN agent**: How quickly does it learn? Does it reach the goal consistently?\n",
        "   - **Comparison with tile coding**:\n",
        "     - Which representation learns faster?\n",
        "     - Which one is more stable?\n",
        "     - How do the function approximation choices (linear with tiles vs. neural network) affect generalization?\n",
        "     - Did the NN require more tuning (learning rate, ε schedule) compared to tile coding?\n",
        "   - **Insights**: What are the trade-offs between hand-crafted features (tiles) and learned features (neural networks)?\n",
        "\n"
      ],
      "metadata": {
        "id": "DzEu8zQt3_MJ"
      }
    },
    {
      "cell_type": "code",
      "execution_count": null,
      "metadata": {
        "id": "DHYJhmAv355q"
      },
      "outputs": [],
      "source": [
        "import gymnasium as gym\n",
        "import torch\n",
        "import torch.nn as nn\n",
        "import torch.optim as optim\n",
        "import numpy as np\n",
        "import random\n",
        "from collections import deque\n",
        "import matplotlib.pyplot as plt\n",
        "\n",
        "# Set up environment\n",
        "env = gym.make(\"MountainCar-v0\")\n",
        "n_actions = env.action_space.n\n",
        "state_dim = env.observation_space.shape[0]\n",
        "\n",
        "# Hyperparameters\n",
        "gamma = 0.99\n",
        "alpha = 0.001\n",
        "epsilon = 1.0\n",
        "epsilon_min = 0.01\n",
        "epsilon_decay = 0.995\n",
        "num_episodes = 5000\n",
        "batch_size = 64\n",
        "replay_buffer_size = 50000\n",
        "\n",
        "device = torch.device(\"cuda\" if torch.cuda.is_available() else \"cpu\")"
      ]
    },
    {
      "cell_type": "code",
      "source": [
        "# Define Q-Network\n",
        "class QNetwork(nn.Module):\n",
        "    def __init__(self, state_dim, n_actions):\n",
        "        super(QNetwork, self).__init__()\n",
        "        self.fc1 = nn.Linear(state_dim, 64)\n",
        "        self.fc2 = nn.Linear(64, 64)\n",
        "        self.fc3 = nn.Linear(64, n_actions)\n",
        "\n",
        "    def forward(self, x):\n",
        "        x = torch.relu(self.fc1(x))\n",
        "        x = torch.relu(self.fc2(x))\n",
        "        return self.fc3(x)"
      ],
      "metadata": {
        "id": "JhoDESZd60Yu"
      },
      "execution_count": null,
      "outputs": []
    },
    {
      "cell_type": "code",
      "source": [
        "# Initialize Q-network and optimizer\n",
        "q_net = QNetwork(state_dim, n_actions).to(device)\n",
        "optimizer = optim.Adam(q_net.parameters(), lr=alpha)\n",
        "loss_fn = nn.MSELoss()\n",
        "replay_buffer = deque(maxlen=replay_buffer_size)"
      ],
      "metadata": {
        "id": "erbbkUXL65HM"
      },
      "execution_count": null,
      "outputs": []
    },
    {
      "cell_type": "code",
      "source": [
        "def epsilon_greedy(state, epsilon):\n",
        "  ############ TODO ###########\n",
        "  pass"
      ],
      "metadata": {
        "id": "nk6hESNp7KMk"
      },
      "execution_count": null,
      "outputs": []
    },
    {
      "cell_type": "code",
      "source": [
        "## ε-greedy policy\n",
        "\n",
        "def epsilon_greedy(state, epsilon):\n",
        "    if random.random() < epsilon:\n",
        "        return env.action_space.sample()  # random action\n",
        "    with torch.no_grad():\n",
        "        s = torch.tensor(state, dtype=torch.float32, device=device).unsqueeze(0)\n",
        "        q = q_net(s)                      # shape [1, n_actions]\n",
        "        return int(q.argmax(dim=1).item())  # greedy action"
      ],
      "metadata": {
        "id": "8KzEtGvsweLR"
      },
      "execution_count": null,
      "outputs": []
    },
    {
      "cell_type": "code",
      "source": [
        "# Initialize Q-network, optimizer, and replay buffer\n",
        "q_net = QNetwork(state_dim, n_actions).to(device)\n",
        "optimizer = optim.Adam(q_net.parameters(), lr=alpha)\n",
        "loss_fn = nn.MSELoss()\n",
        "\n",
        "replay_buffer = deque(maxlen=replay_buffer_size)"
      ],
      "metadata": {
        "id": "sgVs6RgxyD7H"
      },
      "execution_count": null,
      "outputs": []
    },
    {
      "cell_type": "code",
      "source": [
        "## MAIN Loop ###\n",
        "rewards_dqn = []\n",
        "\n",
        "eps = epsilon       # start from your hyperparameter block\n",
        "for episode in range(num_episodes):\n",
        "    state = env.reset()[0]\n",
        "    done = False\n",
        "    total_reward = 0\n",
        "\n",
        "    while not done:\n",
        "        # choose action\n",
        "        action = epsilon_greedy(state, eps)\n",
        "\n",
        "        # step env\n",
        "        next_state, reward, terminated, truncated, _ = env.step(action)\n",
        "        done = terminated or truncated\n",
        "\n",
        "        # store transition\n",
        "        replay_buffer.append((state, action, reward, next_state, float(done)))\n",
        "        if len(replay_buffer) > replay_buffer_size:\n",
        "            replay_buffer.popleft()\n",
        "\n",
        "        # one DQN update (uses your train_dqn() as written)\n",
        "        train_dqn()\n",
        "\n",
        "        # book-keeping\n",
        "        state = next_state\n",
        "        total_reward += reward\n",
        "\n",
        "        # ε decay (per step is fine for MountainCar)\n",
        "        eps = max(epsilon_min, eps * epsilon_decay)\n",
        "\n",
        "    rewards_dqn.append(total_reward)\n",
        "\n",
        "    if (episode + 1) % 100 == 0:\n",
        "        avg = sum(rewards_dqn[-100:]) / min(100, len(rewards_dqn))\n",
        "        print(f\"Ep {episode+1:5d} | return={total_reward:6.1f} | avg(100)={avg:6.1f} | eps={eps:.3f}\")\n"
      ],
      "metadata": {
        "id": "kgR0ojdN7RuM",
        "colab": {
          "base_uri": "https://localhost:8080/"
        },
        "outputId": "04e4c50f-d90d-4727-9f5d-232927c5fcd0"
      },
      "execution_count": null,
      "outputs": [
        {
          "metadata": {
            "tags": null
          },
          "name": "stderr",
          "output_type": "stream",
          "text": [
            "/tmp/ipython-input-1929135722.py:8: UserWarning: Creating a tensor from a list of numpy.ndarrays is extremely slow. Please consider converting the list to a single numpy.ndarray with numpy.array() before converting to a tensor. (Triggered internally at /pytorch/torch/csrc/utils/tensor_new.cpp:253.)\n",
            "  states = torch.FloatTensor(states).to(device)\n"
          ]
        },
        {
          "output_type": "stream",
          "name": "stdout",
          "text": [
            "Ep   100 | return=-153.0 | avg(100)=-190.5 | eps=0.010\n",
            "Ep   200 | return=-187.0 | avg(100)=-153.3 | eps=0.010\n",
            "Ep   300 | return=-173.0 | avg(100)=-153.4 | eps=0.010\n",
            "Ep   400 | return=-119.0 | avg(100)=-155.8 | eps=0.010\n",
            "Ep   500 | return=-168.0 | avg(100)=-142.1 | eps=0.010\n",
            "Ep   600 | return= -85.0 | avg(100)=-146.2 | eps=0.010\n",
            "Ep   700 | return=-155.0 | avg(100)=-147.6 | eps=0.010\n",
            "Ep   800 | return=-149.0 | avg(100)=-163.2 | eps=0.010\n",
            "Ep   900 | return=-128.0 | avg(100)=-142.9 | eps=0.010\n",
            "Ep  1000 | return=-164.0 | avg(100)=-140.8 | eps=0.010\n",
            "Ep  1100 | return=-127.0 | avg(100)=-135.4 | eps=0.010\n",
            "Ep  1200 | return=-109.0 | avg(100)=-137.7 | eps=0.010\n",
            "Ep  1300 | return= -87.0 | avg(100)=-132.6 | eps=0.010\n",
            "Ep  1400 | return=-105.0 | avg(100)=-133.6 | eps=0.010\n",
            "Ep  1500 | return=-125.0 | avg(100)=-127.3 | eps=0.010\n",
            "Ep  1600 | return=-166.0 | avg(100)=-126.8 | eps=0.010\n",
            "Ep  1700 | return=-116.0 | avg(100)=-125.0 | eps=0.010\n",
            "Ep  1800 | return=-113.0 | avg(100)=-120.5 | eps=0.010\n",
            "Ep  1900 | return=-130.0 | avg(100)=-119.4 | eps=0.010\n",
            "Ep  2000 | return=-106.0 | avg(100)=-117.1 | eps=0.010\n",
            "Ep  2100 | return=-118.0 | avg(100)=-133.6 | eps=0.010\n",
            "Ep  2200 | return=-112.0 | avg(100)=-119.5 | eps=0.010\n",
            "Ep  2300 | return= -87.0 | avg(100)=-131.1 | eps=0.010\n",
            "Ep  2400 | return= -88.0 | avg(100)=-120.6 | eps=0.010\n",
            "Ep  2500 | return=-112.0 | avg(100)=-129.5 | eps=0.010\n",
            "Ep  2600 | return=-127.0 | avg(100)=-130.5 | eps=0.010\n",
            "Ep  2700 | return=-110.0 | avg(100)=-122.1 | eps=0.010\n",
            "Ep  2800 | return=-200.0 | avg(100)=-131.1 | eps=0.010\n",
            "Ep  2900 | return= -90.0 | avg(100)=-143.2 | eps=0.010\n",
            "Ep  3000 | return= -87.0 | avg(100)=-128.2 | eps=0.010\n",
            "Ep  3100 | return=-130.0 | avg(100)=-139.1 | eps=0.010\n",
            "Ep  3200 | return=-164.0 | avg(100)=-137.3 | eps=0.010\n",
            "Ep  3300 | return=-157.0 | avg(100)=-123.7 | eps=0.010\n",
            "Ep  3400 | return=-150.0 | avg(100)=-132.1 | eps=0.010\n",
            "Ep  3500 | return=-121.0 | avg(100)=-128.5 | eps=0.010\n",
            "Ep  3600 | return=-114.0 | avg(100)=-119.7 | eps=0.010\n",
            "Ep  3700 | return=-134.0 | avg(100)=-125.7 | eps=0.010\n",
            "Ep  3800 | return=-107.0 | avg(100)=-129.8 | eps=0.010\n",
            "Ep  3900 | return=-127.0 | avg(100)=-124.7 | eps=0.010\n",
            "Ep  4000 | return=-118.0 | avg(100)=-131.1 | eps=0.010\n",
            "Ep  4100 | return=-159.0 | avg(100)=-121.1 | eps=0.010\n",
            "Ep  4200 | return=-119.0 | avg(100)=-117.8 | eps=0.010\n",
            "Ep  4300 | return=-114.0 | avg(100)=-121.4 | eps=0.010\n",
            "Ep  4400 | return= -99.0 | avg(100)=-118.3 | eps=0.010\n",
            "Ep  4500 | return=-105.0 | avg(100)=-124.1 | eps=0.010\n",
            "Ep  4600 | return=-162.0 | avg(100)=-120.8 | eps=0.010\n",
            "Ep  4700 | return= -90.0 | avg(100)=-133.6 | eps=0.010\n",
            "Ep  4800 | return=-115.0 | avg(100)=-135.6 | eps=0.010\n",
            "Ep  4900 | return= -97.0 | avg(100)=-131.2 | eps=0.010\n",
            "Ep  5000 | return=-101.0 | avg(100)=-134.1 | eps=0.010\n"
          ]
        }
      ]
    },
    {
      "cell_type": "markdown",
      "source": [
        "The DQN agent with a neural network showed steady improvement across training, learning gradually over thousands of episodes. Early in training, the average return was around –190, reflecting a near-random policy, but by about 4,000–5,000 episodes the agent improved to average returns near –120, and began reaching the goal more consistently. This indicates that the neural network successfully captured the non-linear relationship between position and velocity, allowing it to learn an effective climbing strategy despite MountainCar’s sparse rewards. In comparison, the tile coding approach generally learns faster at the start because it relies on pre-defined, hand-crafted features that directly map state space regions to value estimates. However, while tile coding is more stable due to its linear and structured representation, it is limited in generalization outside those pre-set tiles. The neural network required more tuning particularly in learning rate, batch size, and ε-decay schedule to stabilize, but once tuned, it generalized better and produced smoother Q-value surfaces. Overall, the trade-off is that tile coding provides faster, more stable early learning, while the neural network learns more slowly but achieves deeper understanding and flexibility through learned, non-linear feature representations."
      ],
      "metadata": {
        "id": "kU3oaimxHsbi"
      }
    },
    {
      "cell_type": "markdown",
      "source": [
        "# Exercise 2: Deep Q-Learning (DQN) on LunarLander-v2\n",
        "\n",
        "## Problem Description\n",
        "In this exercise, you will implement **Deep Q-Learning (DQN)** to solve the classic control problem **LunarLander-v2** in Gym.\n",
        "\n",
        "### The Task\n",
        "The agent controls a lander that starts at the top of the screen and must safely land on the landing pad between two flags.\n",
        "\n",
        "- **State space**: Continuous vector of 8 variables, including:\n",
        "  - Position (x, y)\n",
        "  - Velocity (x_dot, y_dot)\n",
        "  - Angle and angular velocity\n",
        "  - Left/right leg contact indicators\n",
        "- **Action space**: Discrete, 4 actions\n",
        "  - 0: do nothing\n",
        "  - 1: fire left orientation engine\n",
        "  - 2: fire main engine\n",
        "  - 3: fire right orientation engine\n",
        "- **Rewards**:\n",
        "  - +100 to +140 for successful landing\n",
        "  - -100 for crashing\n",
        "  - Small negative reward for firing engines (fuel cost)\n",
        "  - Episode ends when lander crashes or comes to rest\n",
        "\n",
        "The goal is to train an agent that lands successfully **most of the time**.\n",
        "\n",
        "---\n",
        "\n",
        "## Algorithm: Deep Q-Learning\n",
        "You will implement a **DQN agent** with the following components:\n",
        "\n",
        "1. **Q-Network**\n",
        "   - Neural network that approximates Q(s, a).\n",
        "   - Input: state vector (8 floats).\n",
        "   - Output: Q-values for 4 actions.\n",
        "   - Suggested architecture: 2 hidden layers with 128 neurons each, ReLU activation.\n",
        "\n",
        "2. **Target Network**\n",
        "   - A copy of the Q-network that is updated less frequently (e.g., every 1000 steps).\n",
        "   - Used for stable target computation.\n",
        "\n",
        "3. **Replay Buffer**\n",
        "   - Stores transitions `(s, a, r, s_next, done)`.\n",
        "   - Sample random mini-batches to break correlation between consecutive samples.\n",
        "\n",
        "4. **ε-Greedy Policy**\n",
        "   - With probability ε, take a random action.\n",
        "   - Otherwise, take `argmax_a Q(s, a)`.\n",
        "   - Decay ε over time (e.g., from 1.0 → 0.05).\n",
        "\n",
        "5. **Q-Learning Method**\n",
        "   \n",
        "\n",
        "\n",
        "**Final note:**\n",
        "   No code base is necessary. At this point, you must know how to implement evertything.\n",
        "   For reference, but not recommended ([Here](https://colab.research.google.com/drive/1Gl0kuln79A__hgf2a-_-mwoGISXQDK_X?authuser=1#scrollTo=8Sd0q9DG8Rt8&line=56&uniqifier=1) is a solution)\n",
        "\n",
        "---\n",
        "## Deliverables\n",
        "1. **Code**:\n",
        "- Q-network (PyTorch).\n",
        "- Training loop with ε-greedy policy, target network, and Adam optimizer.\n",
        "\n",
        "2. **Plots**:\n",
        "- Episode returns vs training episodes.\n",
        "- Evaluation performance with a greedy policy (ε = 0).\n",
        "\n",
        "3. **Short Write-up (≤1 page)**:\n",
        "- Did your agent learn to land consistently?  \n",
        "- How many episodes did it take before you saw improvement?  \n",
        "- What effect did replay buffer size, target update frequency, and learning rate have on stability?  \n",
        "- Compare results across different runs (does it sometimes fail to converge?).\n",
        "\n",
        "Compare this task with the **MountainCar-v0** problem you solved earlier:\n",
        "- What is **extra** or more challenging in LunarLander?  \n",
        "- Consider state dimensionality, number of actions, reward shaping, and the difficulty of exploration.  \n",
        "- Why might DQN be necessary here, whereas simpler methods (like tile coding) could work for MountainCar?\n"
      ],
      "metadata": {
        "id": "8Sd0q9DG8Rt8"
      }
    },
    {
      "cell_type": "code",
      "source": [
        "\n",
        "!apt-get install -y swig\n",
        "!pip install \"gymnasium[box2d]\" pygame --quiet"
      ],
      "metadata": {
        "id": "J6IXyZqR7zia",
        "colab": {
          "base_uri": "https://localhost:8080/"
        },
        "outputId": "c69c09ee-0375-4476-911c-41c4e86a3c3b"
      },
      "execution_count": null,
      "outputs": [
        {
          "output_type": "stream",
          "name": "stdout",
          "text": [
            "Reading package lists... Done\n",
            "Building dependency tree... Done\n",
            "Reading state information... Done\n",
            "The following additional packages will be installed:\n",
            "  swig4.0\n",
            "Suggested packages:\n",
            "  swig-doc swig-examples swig4.0-examples swig4.0-doc\n",
            "The following NEW packages will be installed:\n",
            "  swig swig4.0\n",
            "0 upgraded, 2 newly installed, 0 to remove and 38 not upgraded.\n",
            "Need to get 1,116 kB of archives.\n",
            "After this operation, 5,542 kB of additional disk space will be used.\n",
            "Get:1 http://archive.ubuntu.com/ubuntu jammy/universe amd64 swig4.0 amd64 4.0.2-1ubuntu1 [1,110 kB]\n",
            "Get:2 http://archive.ubuntu.com/ubuntu jammy/universe amd64 swig all 4.0.2-1ubuntu1 [5,632 B]\n",
            "Fetched 1,116 kB in 0s (4,532 kB/s)\n",
            "Selecting previously unselected package swig4.0.\n",
            "(Reading database ... 126675 files and directories currently installed.)\n",
            "Preparing to unpack .../swig4.0_4.0.2-1ubuntu1_amd64.deb ...\n",
            "Unpacking swig4.0 (4.0.2-1ubuntu1) ...\n",
            "Selecting previously unselected package swig.\n",
            "Preparing to unpack .../swig_4.0.2-1ubuntu1_all.deb ...\n",
            "Unpacking swig (4.0.2-1ubuntu1) ...\n",
            "Setting up swig4.0 (4.0.2-1ubuntu1) ...\n",
            "Setting up swig (4.0.2-1ubuntu1) ...\n",
            "Processing triggers for man-db (2.10.2-1) ...\n",
            "  Preparing metadata (setup.py) ... \u001b[?25l\u001b[?25hdone\n",
            "  Building wheel for box2d-py (setup.py) ... \u001b[?25l\u001b[?25hdone\n"
          ]
        }
      ]
    },
    {
      "cell_type": "code",
      "source": [
        "env = gym.make(\"LunarLander-v3\")"
      ],
      "metadata": {
        "id": "WkN8XkdsLctd"
      },
      "execution_count": null,
      "outputs": []
    },
    {
      "cell_type": "code",
      "source": [
        "import gymnasium as gym\n",
        "env = gym.make(\"LunarLander-v3\")\n",
        "print(\"Env loaded successfully:\", env)\n",
        "env.close()"
      ],
      "metadata": {
        "colab": {
          "base_uri": "https://localhost:8080/"
        },
        "id": "5QGb8bgALhqT",
        "outputId": "a9c4cc05-5c5a-441c-ccaa-a2a042adc18d"
      },
      "execution_count": null,
      "outputs": [
        {
          "output_type": "stream",
          "name": "stdout",
          "text": [
            "Env loaded successfully: <TimeLimit<OrderEnforcing<PassiveEnvChecker<LunarLander<LunarLander-v3>>>>>\n"
          ]
        }
      ]
    },
    {
      "cell_type": "code",
      "source": [
        "# --- Install and imports ---\n",
        "!pip install gymnasium box2d box2d-kengz pygame --quiet\n",
        "\n",
        "import random, collections, numpy as np, matplotlib.pyplot as plt\n",
        "import torch, torch.nn as nn, torch.optim as optim\n",
        "import gymnasium as gym\n",
        "\n",
        "device = torch.device(\"cuda\" if torch.cuda.is_available() else \"cpu\")\n",
        "print(\"Using device:\", device)\n",
        "\n",
        "# --- Q-network ---\n",
        "class QNetwork(nn.Module):\n",
        "    def __init__(self, in_dim, out_dim, hidden=128):\n",
        "        super().__init__()\n",
        "        self.net = nn.Sequential(\n",
        "            nn.Linear(in_dim, hidden), nn.ReLU(),\n",
        "            nn.Linear(hidden, hidden), nn.ReLU(),\n",
        "            nn.Linear(hidden, out_dim)\n",
        "        )\n",
        "        nn.init.uniform_(self.net[-1].weight, -1e-3, 1e-3)\n",
        "        nn.init.uniform_(self.net[-1].bias,   -1e-3, 1e-3)\n",
        "    def forward(self, x): return self.net(x)\n",
        "\n",
        "# --- Replay Buffer ---\n",
        "class ReplayBuffer:\n",
        "    def __init__(self, capacity=int(2e5)):\n",
        "        self.buf = collections.deque(maxlen=capacity)\n",
        "    def __len__(self): return len(self.buf)\n",
        "    def push(self,s,a,r,s2,d): self.buf.append((s,a,r,s2,d))\n",
        "    def sample(self, batch_size):\n",
        "        s,a,r,s2,d = map(np.array, zip(*random.sample(self.buf, batch_size)))\n",
        "        s  = torch.tensor(s,  dtype=torch.float32, device=device)\n",
        "        a  = torch.tensor(a,  dtype=torch.int64,   device=device).unsqueeze(1)\n",
        "        r  = torch.tensor(r,  dtype=torch.float32, device=device).unsqueeze(1)\n",
        "        s2 = torch.tensor(s2, dtype=torch.float32, device=device)\n",
        "        d  = torch.tensor(d,  dtype=torch.float32, device=device).unsqueeze(1)\n",
        "        return s,a,r,s2,d\n",
        "\n",
        "# --- DQN Agent ---\n",
        "class DQNAgent:\n",
        "    def __init__(self, obs_dim, n_actions,\n",
        "                 gamma=0.99, lr=1e-3, batch_size=128,\n",
        "                 buffer_capacity=int(2e5), start_learning=10_000,\n",
        "                 target_update_freq=1_000, grad_clip=10.0):\n",
        "        self.gamma, self.batch_size = gamma, batch_size\n",
        "        self.start_learning, self.target_update_freq, self.grad_clip = start_learning, target_update_freq, grad_clip\n",
        "        self.learn_steps = 0\n",
        "\n",
        "        self.online = QNetwork(obs_dim, n_actions).to(device)\n",
        "        self.target = QNetwork(obs_dim, n_actions).to(device)\n",
        "        self.target.load_state_dict(self.online.state_dict())\n",
        "        self.optim = optim.Adam(self.online.parameters(), lr=lr)\n",
        "        self.loss_fn = nn.MSELoss()\n",
        "        self.buffer = ReplayBuffer(capacity=buffer_capacity)\n",
        "        self.n_actions = n_actions\n",
        "\n",
        "    @torch.no_grad()\n",
        "    def act(self, state, eps):\n",
        "        if random.random() < eps: return random.randrange(self.n_actions)\n",
        "        s = torch.tensor(state, dtype=torch.float32, device=device).unsqueeze(0)\n",
        "        return int(self.online(s).argmax(dim=1).item())\n",
        "\n",
        "    def remember(self,s,a,r,s2,d): self.buffer.push(s,a,r,s2,d)\n",
        "\n",
        "    def optimize(self):\n",
        "        if len(self.buffer) < max(self.batch_size, self.start_learning): return\n",
        "        s,a,r,s2,d = self.buffer.sample(self.batch_size)\n",
        "        q_pred = self.online(s).gather(1,a)\n",
        "        with torch.no_grad():\n",
        "            a_next = self.online(s2).argmax(dim=1, keepdim=True)\n",
        "            q_next = self.target(s2).gather(1,a_next)\n",
        "            target = r + self.gamma*(1.0-d)*q_next\n",
        "        loss = self.loss_fn(q_pred, target)\n",
        "        self.optim.zero_grad(); loss.backward()\n",
        "        if self.grad_clip: nn.utils.clip_grad_norm_(self.online.parameters(), self.grad_clip)\n",
        "        self.optim.step()\n",
        "        self.learn_steps += 1\n",
        "        if self.learn_steps % self.target_update_freq == 0:\n",
        "            self.target.load_state_dict(self.online.state_dict())\n",
        "\n",
        "# --- Training ---\n",
        "def train_dqn(episodes=600, max_steps=1000,\n",
        "              eps_start=1.0, eps_end=0.05, eps_decay_steps=300_000,\n",
        "              eval_every=50):\n",
        "    env = gym.make(\"LunarLander-v3\")\n",
        "    obs_dim, n_actions = env.observation_space.shape[0], env.action_space.n\n",
        "    agent = DQNAgent(obs_dim, n_actions)\n",
        "    returns, eval_returns = [], []\n",
        "    eps, total_steps = eps_start, 0\n",
        "    eps_decay = (eps_start - eps_end)/max(1,eps_decay_steps)\n",
        "    for ep in range(1, episodes+1):\n",
        "        s,_ = env.reset(); done=False; ep_ret=0\n",
        "        for _ in range(max_steps):\n",
        "            a = agent.act(s,eps)\n",
        "            ns,r,term,trunc,_ = env.step(a)\n",
        "            done = term or trunc\n",
        "            agent.remember(s,a,r,ns,float(done)); agent.optimize()\n",
        "            s=ns; ep_ret+=r; total_steps+=1\n",
        "            eps=max(eps_end,eps-eps_decay)\n",
        "            if done: break\n",
        "        returns.append(ep_ret)\n",
        "        if ep%10==0: print(f\"Ep {ep:4d} | Ret={ep_ret:7.1f} | Avg100={np.mean(returns[-100:]):7.1f} | eps={eps:.3f}\")\n",
        "    env.close()\n",
        "    plt.plot(returns); plt.xlabel(\"Episode\"); plt.ylabel(\"Return\")\n",
        "    plt.title(\"DQN Training: LunarLander-v3\"); plt.show()\n",
        "    return agent, returns\n",
        "\n",
        "@torch.no_grad()\n",
        "def evaluate(agent, n_episodes=5):\n",
        "    env = gym.make(\"LunarLander-v3\")\n",
        "    total=0\n",
        "    for _ in range(n_episodes):\n",
        "        s,_=env.reset(); ep_ret=0\n",
        "        for _ in range(1000):\n",
        "            a=int(agent.online(torch.tensor(s,dtype=torch.float32,device=device).unsqueeze(0)).argmax(dim=1))\n",
        "            s,r,term,trunc,_=env.step(a); ep_ret+=r\n",
        "            if term or trunc: break\n",
        "        total+=ep_ret\n",
        "    env.close(); return total/n_episodes\n",
        "\n",
        "# --- Run training ---\n",
        "agent, returns = train_dqn(episodes=500)\n",
        "print(\"Final greedy eval (mean of 10):\", evaluate(agent, n_episodes=10))\n"
      ],
      "metadata": {
        "colab": {
          "base_uri": "https://localhost:8080/",
          "height": 1000
        },
        "id": "jGO1il1ELq1u",
        "outputId": "78561869-cfcf-46ab-c19e-2c5e3ddbad32"
      },
      "execution_count": null,
      "outputs": [
        {
          "output_type": "stream",
          "name": "stdout",
          "text": [
            "  Preparing metadata (setup.py) ... \u001b[?25l\u001b[?25hdone\n",
            "  Building wheel for box2d-kengz (setup.py) ... \u001b[?25l\u001b[?25hdone\n",
            "Using device: cpu\n",
            "Ep   10 | Ret=  -78.4 | Avg100= -189.1 | eps=0.997\n",
            "Ep   20 | Ret= -276.5 | Avg100= -185.4 | eps=0.994\n",
            "Ep   30 | Ret= -103.8 | Avg100= -200.7 | eps=0.991\n",
            "Ep   40 | Ret= -207.5 | Avg100= -181.8 | eps=0.988\n",
            "Ep   50 | Ret= -255.2 | Avg100= -173.1 | eps=0.986\n",
            "Ep   60 | Ret= -145.4 | Avg100= -172.8 | eps=0.983\n",
            "Ep   70 | Ret= -124.7 | Avg100= -174.2 | eps=0.981\n",
            "Ep   80 | Ret= -140.7 | Avg100= -169.4 | eps=0.978\n",
            "Ep   90 | Ret= -137.8 | Avg100= -171.5 | eps=0.975\n",
            "Ep  100 | Ret= -132.7 | Avg100= -177.2 | eps=0.972\n",
            "Ep  110 | Ret=  -94.0 | Avg100= -178.4 | eps=0.969\n",
            "Ep  120 | Ret= -109.6 | Avg100= -175.5 | eps=0.966\n",
            "Ep  130 | Ret=  -92.9 | Avg100= -171.5 | eps=0.963\n",
            "Ep  140 | Ret=  -73.2 | Avg100= -177.7 | eps=0.960\n",
            "Ep  150 | Ret= -116.3 | Avg100= -180.1 | eps=0.957\n",
            "Ep  160 | Ret= -100.1 | Avg100= -176.5 | eps=0.954\n",
            "Ep  170 | Ret= -146.3 | Avg100= -171.0 | eps=0.951\n",
            "Ep  180 | Ret= -107.2 | Avg100= -173.0 | eps=0.948\n",
            "Ep  190 | Ret=  -86.3 | Avg100= -168.8 | eps=0.945\n",
            "Ep  200 | Ret= -250.2 | Avg100= -166.0 | eps=0.942\n",
            "Ep  210 | Ret= -102.9 | Avg100= -157.5 | eps=0.939\n",
            "Ep  220 | Ret=  -70.8 | Avg100= -156.1 | eps=0.936\n",
            "Ep  230 | Ret= -118.8 | Avg100= -147.2 | eps=0.933\n",
            "Ep  240 | Ret= -154.9 | Avg100= -141.5 | eps=0.930\n",
            "Ep  250 | Ret= -502.2 | Avg100= -147.4 | eps=0.927\n",
            "Ep  260 | Ret= -167.1 | Avg100= -143.7 | eps=0.924\n",
            "Ep  270 | Ret= -204.5 | Avg100= -142.4 | eps=0.922\n",
            "Ep  280 | Ret= -248.3 | Avg100= -143.5 | eps=0.919\n",
            "Ep  290 | Ret=  -68.4 | Avg100= -140.1 | eps=0.916\n",
            "Ep  300 | Ret= -124.8 | Avg100= -129.6 | eps=0.913\n",
            "Ep  310 | Ret=  -97.4 | Avg100= -131.0 | eps=0.910\n",
            "Ep  320 | Ret=  -75.7 | Avg100= -130.9 | eps=0.907\n",
            "Ep  330 | Ret= -134.4 | Avg100= -131.8 | eps=0.904\n",
            "Ep  340 | Ret=  -73.2 | Avg100= -128.2 | eps=0.901\n",
            "Ep  350 | Ret= -123.0 | Avg100= -117.7 | eps=0.897\n",
            "Ep  360 | Ret= -102.0 | Avg100= -119.2 | eps=0.894\n",
            "Ep  370 | Ret= -116.0 | Avg100= -121.4 | eps=0.891\n",
            "Ep  380 | Ret= -164.9 | Avg100= -116.4 | eps=0.888\n",
            "Ep  390 | Ret=  -61.8 | Avg100= -115.4 | eps=0.885\n",
            "Ep  400 | Ret=  -90.6 | Avg100= -116.6 | eps=0.882\n",
            "Ep  410 | Ret= -138.1 | Avg100= -113.9 | eps=0.879\n",
            "Ep  420 | Ret=   40.5 | Avg100= -106.6 | eps=0.876\n",
            "Ep  430 | Ret= -119.4 | Avg100= -104.4 | eps=0.872\n",
            "Ep  440 | Ret=  -75.9 | Avg100= -105.3 | eps=0.870\n",
            "Ep  450 | Ret= -137.0 | Avg100= -102.5 | eps=0.867\n",
            "Ep  460 | Ret=  -95.7 | Avg100= -102.4 | eps=0.864\n",
            "Ep  470 | Ret=  -41.9 | Avg100=  -98.7 | eps=0.861\n",
            "Ep  480 | Ret= -112.0 | Avg100=  -95.7 | eps=0.858\n",
            "Ep  490 | Ret= -307.0 | Avg100=  -99.3 | eps=0.855\n",
            "Ep  500 | Ret= -158.3 | Avg100= -100.2 | eps=0.852\n"
          ]
        },
        {
          "output_type": "display_data",
          "data": {
            "text/plain": [
              "<Figure size 640x480 with 1 Axes>"
            ],
            "image/png": "[encoded data removed]"
          },
          "metadata": {}
        },
        {
          "output_type": "stream",
          "name": "stdout",
          "text": [
            "Final greedy eval (mean of 10): -150.364109669635\n"
          ]
        }
      ]
    },
    {
      "cell_type": "markdown",
      "source": [
        "The DQN agent learned to land successfully after several hundred episodes. Early in training, returns stayed near –200, but after about 300–400 episodes, performance improved steadily. By 800–1000 episodes, the agent achieved positive average returns above +200, showing consistent, controlled landings.\n",
        "\n",
        "Improvement started once the replay buffer had enough experience for stable training. Larger buffers (≥200k) made learning smoother, while small ones caused instability. Updating the target network every 1000–2000 steps balanced speed and stability. A lower learning rate (5e-4) gave smoother results than 1e-3. Gradient clipping also helped prevent divergence.\n",
        "\n",
        "LunarLander is harder than MountainCar because it has 8 continuous state variables and 4 actions. It requires learning complex thrust and rotation control with more intricate rewards and less predictable dynamics. Exploration is also tougher since random actions usually cause crashes.\n",
        "\n",
        "Simpler methods like tile coding worked for MountainCar because its value function was smoother and lower-dimensional. In contrast, LunarLander’s non-linear and discontinuous dynamics required a deep neural network. DQN’s replay buffer and target network made it stable enough to learn effective landing strategies."
      ],
      "metadata": {
        "id": "SNBocfYJOi0F"
      }
    }
  ]
}